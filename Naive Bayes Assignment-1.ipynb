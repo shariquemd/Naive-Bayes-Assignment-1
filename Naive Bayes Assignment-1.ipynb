{
 "cells": [
  {
   "cell_type": "code",
   "execution_count": null,
   "id": "d9ffed78-941b-4101-83e9-31ca6ef169dd",
   "metadata": {},
   "outputs": [],
   "source": [
    "ANSWER1:\n",
    "Bayes' theorem is a mathematical formula that describes the probability of an event based on prior knowledge of conditions that might be related to the event.\n",
    "\n",
    "ANSWER2: \n",
    "The formula for Bayes' theorem is: P(A|B) = P(B|A) * P(A) / P(B), where:\n",
    "P(A|B) is the probability of event A given that event B has occurred.\n",
    "P(B|A) is the probability of event B given that event A has occurred.\n",
    "P(A) and P(B) are the probabilities of events A and B, respectively.\n",
    "\n",
    "ANSWER3:\n",
    "Bayes' theorem is used in practice for various applications, including machine learning, statistics, and probability. In machine learning, it is often employed in Bayesian statistics and Naive Bayes classifiers for classification tasks.\n",
    "\n",
    "ANSWER4:\n",
    "Bayes' theorem is closely related to conditional probability. Conditional probability is the probability of an event occurring given that another event has already occurred. Bayes' theorem provides a way to update the probability of an event based on new evidence or information.\n",
    "\n",
    "ANSWER5:\n",
    "The choice of the type of Naive Bayes classifier depends on the nature of the data and the assumptions you are willing to make about the independence of features. The three main types are:\n",
    "Gaussian Naive Bayes: Assumes that the features follow a normal distribution.\n",
    "Multinomial Naive Bayes: Suitable for discrete data, often used for document classification.\n",
    "Bernoulli Naive Bayes: Assumes binary or Boolean features, suitable for binary classification problems.\n",
    "\n",
    "ANSWER6: \n",
    "To predict the class for the new instance with features X1=3 and X2=4 using Naive Bayes, you would calculate the posterior probabilities for each class and choose the class with the highest probability. Assuming equal prior probabilities, the calculations would involve applying the Naive Bayes formula.\n",
    "Let's calculate:\n",
    "For class A: P(A|X1=3, X2=4) ∝ P(X1=3|A) * P(X2=4|A) * P(A)\n",
    "For class B: P(B|X1=3, X2=4) ∝ P(X1=3|B) * P(X2=4|B) * P(B)"
   ]
  }
 ],
 "metadata": {
  "kernelspec": {
   "display_name": "Python 3 (ipykernel)",
   "language": "python",
   "name": "python3"
  },
  "language_info": {
   "codemirror_mode": {
    "name": "ipython",
    "version": 3
   },
   "file_extension": ".py",
   "mimetype": "text/x-python",
   "name": "python",
   "nbconvert_exporter": "python",
   "pygments_lexer": "ipython3",
   "version": "3.10.8"
  }
 },
 "nbformat": 4,
 "nbformat_minor": 5
}
